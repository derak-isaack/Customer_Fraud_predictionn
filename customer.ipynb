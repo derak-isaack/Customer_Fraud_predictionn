{
 "cells": [
  {
   "cell_type": "code",
   "execution_count": null,
   "metadata": {},
   "outputs": [],
   "source": []
  },
  {
   "cell_type": "markdown",
   "metadata": {},
   "source": []
  },
  {
   "cell_type": "code",
   "execution_count": 4,
   "metadata": {},
   "outputs": [],
   "source": [
    "import pandas as pd \n",
    "import numpy as np  \n",
    "\n",
    "import matplotlib.pyplot as plt \n",
    "%matplotlib inline \n",
    "import seaborn as sns \n"
   ]
  },
  {
   "cell_type": "markdown",
   "metadata": {},
   "source": [
    "### Data Understanding"
   ]
  },
  {
   "cell_type": "code",
   "execution_count": 5,
   "metadata": {},
   "outputs": [
    {
     "data": {
      "text/html": [
       "<div>\n",
       "<style scoped>\n",
       "    .dataframe tbody tr th:only-of-type {\n",
       "        vertical-align: middle;\n",
       "    }\n",
       "\n",
       "    .dataframe tbody tr th {\n",
       "        vertical-align: top;\n",
       "    }\n",
       "\n",
       "    .dataframe thead th {\n",
       "        text-align: right;\n",
       "    }\n",
       "</style>\n",
       "<table border=\"1\" class=\"dataframe\">\n",
       "  <thead>\n",
       "    <tr style=\"text-align: right;\">\n",
       "      <th></th>\n",
       "      <th>Date</th>\n",
       "      <th>nameOrig</th>\n",
       "      <th>amount</th>\n",
       "      <th>oldbalanceOrg</th>\n",
       "      <th>newbalanceOrig</th>\n",
       "      <th>City</th>\n",
       "      <th>type</th>\n",
       "      <th>Card Type</th>\n",
       "      <th>Exp Type</th>\n",
       "      <th>Gender</th>\n",
       "      <th>isFraud</th>\n",
       "    </tr>\n",
       "  </thead>\n",
       "  <tbody>\n",
       "    <tr>\n",
       "      <th>0</th>\n",
       "      <td>26-May-13</td>\n",
       "      <td>C2011200430</td>\n",
       "      <td>242.0</td>\n",
       "      <td>302.0</td>\n",
       "      <td>60.0</td>\n",
       "      <td>Ahmedabad, India</td>\n",
       "      <td>TRANSFER</td>\n",
       "      <td>Gold</td>\n",
       "      <td>Food</td>\n",
       "      <td>F</td>\n",
       "      <td>1</td>\n",
       "    </tr>\n",
       "    <tr>\n",
       "      <th>1</th>\n",
       "      <td>26-Jul-12</td>\n",
       "      <td>C931301500</td>\n",
       "      <td>7081.0</td>\n",
       "      <td>46066.0</td>\n",
       "      <td>38985.0</td>\n",
       "      <td>Delhi, India</td>\n",
       "      <td>TRANSFER</td>\n",
       "      <td>Gold</td>\n",
       "      <td>Entertainment</td>\n",
       "      <td>M</td>\n",
       "      <td>1</td>\n",
       "    </tr>\n",
       "    <tr>\n",
       "      <th>2</th>\n",
       "      <td>12-Apr-12</td>\n",
       "      <td>C963642457</td>\n",
       "      <td>16355.0</td>\n",
       "      <td>30355.0</td>\n",
       "      <td>14000.0</td>\n",
       "      <td>Kolkata, India</td>\n",
       "      <td>TRANSFER</td>\n",
       "      <td>Silver</td>\n",
       "      <td>Fuel</td>\n",
       "      <td>F</td>\n",
       "      <td>1</td>\n",
       "    </tr>\n",
       "    <tr>\n",
       "      <th>3</th>\n",
       "      <td>28-Jan-12</td>\n",
       "      <td>C1439438217</td>\n",
       "      <td>20820.0</td>\n",
       "      <td>39663.0</td>\n",
       "      <td>18843.0</td>\n",
       "      <td>Lucknow, India</td>\n",
       "      <td>TRANSFER</td>\n",
       "      <td>Gold</td>\n",
       "      <td>Food</td>\n",
       "      <td>F</td>\n",
       "      <td>1</td>\n",
       "    </tr>\n",
       "    <tr>\n",
       "      <th>4</th>\n",
       "      <td>16-Apr-14</td>\n",
       "      <td>C892940485</td>\n",
       "      <td>6071.0</td>\n",
       "      <td>35586.0</td>\n",
       "      <td>29515.0</td>\n",
       "      <td>Bengaluru, India</td>\n",
       "      <td>TRANSFER</td>\n",
       "      <td>Gold</td>\n",
       "      <td>Fuel</td>\n",
       "      <td>M</td>\n",
       "      <td>1</td>\n",
       "    </tr>\n",
       "  </tbody>\n",
       "</table>\n",
       "</div>"
      ],
      "text/plain": [
       "        Date     nameOrig   amount  oldbalanceOrg  newbalanceOrig  \\\n",
       "0  26-May-13  C2011200430    242.0          302.0            60.0   \n",
       "1  26-Jul-12   C931301500   7081.0        46066.0         38985.0   \n",
       "2  12-Apr-12   C963642457  16355.0        30355.0         14000.0   \n",
       "3  28-Jan-12  C1439438217  20820.0        39663.0         18843.0   \n",
       "4  16-Apr-14   C892940485   6071.0        35586.0         29515.0   \n",
       "\n",
       "               City      type Card Type       Exp Type Gender  isFraud  \n",
       "0  Ahmedabad, India  TRANSFER      Gold           Food      F        1  \n",
       "1      Delhi, India  TRANSFER      Gold  Entertainment      M        1  \n",
       "2    Kolkata, India  TRANSFER    Silver           Fuel      F        1  \n",
       "3    Lucknow, India  TRANSFER      Gold           Food      F        1  \n",
       "4  Bengaluru, India  TRANSFER      Gold           Fuel      M        1  "
      ]
     },
     "execution_count": 5,
     "metadata": {},
     "output_type": "execute_result"
    }
   ],
   "source": [
    "df = pd.read_csv(\"Fraud.csv\")\n",
    "df.head()"
   ]
  },
  {
   "cell_type": "code",
   "execution_count": 6,
   "metadata": {},
   "outputs": [
    {
     "name": "stdout",
     "output_type": "stream",
     "text": [
      "<class 'pandas.core.frame.DataFrame'>\n",
      "RangeIndex: 1048574 entries, 0 to 1048573\n",
      "Data columns (total 11 columns):\n",
      " #   Column          Non-Null Count    Dtype  \n",
      "---  ------          --------------    -----  \n",
      " 0   Date            1048574 non-null  object \n",
      " 1   nameOrig        1048574 non-null  object \n",
      " 2   amount          1048574 non-null  float64\n",
      " 3   oldbalanceOrg   1048574 non-null  float64\n",
      " 4   newbalanceOrig  1048574 non-null  float64\n",
      " 5   City            1048574 non-null  object \n",
      " 6   type            1048574 non-null  object \n",
      " 7   Card Type       1048574 non-null  object \n",
      " 8   Exp Type        1048574 non-null  object \n",
      " 9   Gender          1048574 non-null  object \n",
      " 10  isFraud         1048574 non-null  int64  \n",
      "dtypes: float64(3), int64(1), object(7)\n",
      "memory usage: 88.0+ MB\n"
     ]
    }
   ],
   "source": [
    "df.info()"
   ]
  },
  {
   "cell_type": "code",
   "execution_count": 7,
   "metadata": {},
   "outputs": [],
   "source": [
    "df['Date'] = pd.to_datetime(df['Date'])"
   ]
  },
  {
   "cell_type": "code",
   "execution_count": 8,
   "metadata": {},
   "outputs": [
    {
     "data": {
      "text/plain": [
       "Date              0\n",
       "nameOrig          0\n",
       "amount            0\n",
       "oldbalanceOrg     0\n",
       "newbalanceOrig    0\n",
       "City              0\n",
       "type              0\n",
       "Card Type         0\n",
       "Exp Type          0\n",
       "Gender            0\n",
       "isFraud           0\n",
       "dtype: int64"
      ]
     },
     "execution_count": 8,
     "metadata": {},
     "output_type": "execute_result"
    }
   ],
   "source": [
    "df.isna().sum()"
   ]
  },
  {
   "cell_type": "code",
   "execution_count": 10,
   "metadata": {},
   "outputs": [
    {
     "data": {
      "text/plain": [
       "0"
      ]
     },
     "execution_count": 10,
     "metadata": {},
     "output_type": "execute_result"
    }
   ],
   "source": [
    "df.duplicated().sum()"
   ]
  },
  {
   "cell_type": "code",
   "execution_count": 11,
   "metadata": {},
   "outputs": [
    {
     "name": "stdout",
     "output_type": "stream",
     "text": [
      "Date\n",
      "2014-04-26    1167\n",
      "2013-10-14    1159\n",
      "2014-04-20    1155\n",
      "2014-06-21    1153\n",
      "2014-04-23    1143\n",
      "              ... \n",
      "2014-08-12      29\n",
      "2014-12-22      28\n",
      "2014-08-29      27\n",
      "2014-07-30      24\n",
      "2015-04-11      23\n",
      "Name: Date, Length: 1326, dtype: int64\n",
      " \n",
      "nameOrig\n",
      "C1900095842    2\n",
      "C620899653     2\n",
      "C1396133766    2\n",
      "C869403888     2\n",
      "C1039623203    2\n",
      "              ..\n",
      "C1111709107    1\n",
      "C2143780593    1\n",
      "C502290755     1\n",
      "C839317242     1\n",
      "C1841909664    1\n",
      "Name: nameOrig, Length: 1048316, dtype: int64\n",
      " \n",
      "amount\n",
      "0.00         180353\n",
      "15.00           555\n",
      "3.00            425\n",
      "1.00            422\n",
      "4.00            389\n",
      "              ...  \n",
      "12663.28          1\n",
      "70.08             1\n",
      "48511.84          1\n",
      "10075.09          1\n",
      "121569.82         1\n",
      "Name: amount, Length: 448247, dtype: int64\n",
      " \n",
      "oldbalanceOrg\n",
      "0.00           180128\n",
      "10100000.00       433\n",
      "10300000.00       424\n",
      "10200000.00       421\n",
      "10900000.00       387\n",
      "                ...  \n",
      "324338.00           1\n",
      "91502.00            1\n",
      "90403.44            1\n",
      "104801.95           1\n",
      "38900000.00         1\n",
      "Name: oldbalanceOrg, Length: 394652, dtype: int64\n",
      " \n",
      "newbalanceOrig\n",
      "0.00           181615\n",
      "1.00              436\n",
      "3.00              351\n",
      "4.00              349\n",
      "2.00              343\n",
      "                ...  \n",
      "40270.62            1\n",
      "40270.41            1\n",
      "40269.29            1\n",
      "40269.04            1\n",
      "38893191.01         1\n",
      "Name: newbalanceOrig, Length: 491378, dtype: int64\n",
      " \n",
      "City\n",
      "Bengaluru, India         143733\n",
      "Greater Mumbai, India    141376\n",
      "Ahmedabad, India         141231\n",
      "Delhi, India             140874\n",
      "Hyderabad, India          31360\n",
      "                          ...  \n",
      "Mahbubnagar, India           40\n",
      "Godhra, India                40\n",
      "Rayagada, India              40\n",
      "Changanassery, India         40\n",
      "Fazilka, India               40\n",
      "Name: City, Length: 986, dtype: int64\n",
      " \n",
      "type\n",
      "CASH_OUT    373641\n",
      "PAYMENT     353873\n",
      "CASH_IN     227130\n",
      "TRANSFER     86752\n",
      "DEBIT         7178\n",
      "Name: type, dtype: int64\n",
      " \n",
      "Card Type\n",
      "Silver       275540\n",
      "Signature    259327\n",
      "Platinum     257374\n",
      "Gold         256173\n",
      "Classic          80\n",
      "Mass             80\n",
      "Name: Card Type, dtype: int64\n",
      " \n",
      "Exp Type\n",
      "Food              220115\n",
      "Fuel              211830\n",
      "Bills             204502\n",
      "Entertainment     191413\n",
      "Grocery           191074\n",
      "Travel             29520\n",
      "Personal_Care         40\n",
      "Health_Fitness        40\n",
      "Home                  40\n",
      "Name: Exp Type, dtype: int64\n",
      " \n",
      "Gender\n",
      "F    551182\n",
      "M    497392\n",
      "Name: Gender, dtype: int64\n",
      " \n",
      "isFraud\n",
      "0    872789\n",
      "1    175785\n",
      "Name: isFraud, dtype: int64\n",
      " \n"
     ]
    }
   ],
   "source": [
    "for cols in df.columns:\n",
    "    print(cols)\n",
    "    print(df[cols].value_counts())\n",
    "    print(\" \")"
   ]
  },
  {
   "cell_type": "code",
   "execution_count": 12,
   "metadata": {},
   "outputs": [
    {
     "data": {
      "text/plain": [
       "0    0.832358\n",
       "1    0.167642\n",
       "Name: isFraud, dtype: float64"
      ]
     },
     "execution_count": 12,
     "metadata": {},
     "output_type": "execute_result"
    }
   ],
   "source": [
    "df['isFraud'].value_counts(normalize=True)"
   ]
  },
  {
   "cell_type": "markdown",
   "metadata": {},
   "source": [
    "There is evidence of class imbalance because the transactions flagged as Fraud are only 16%. Oversampling techniques will be used to handle the class imbalance issue during the modelling phase to avoid a biased model towards the majority class. "
   ]
  },
  {
   "cell_type": "markdown",
   "metadata": {},
   "source": [
    "### Data preprocessing and analysis \n",
    "From the date column, we will engineer new features for month, year and day to get the pattern and distribution of fraudalent and non-fraudalent transactions. "
   ]
  },
  {
   "cell_type": "code",
   "execution_count": 13,
   "metadata": {},
   "outputs": [
    {
     "name": "stderr",
     "output_type": "stream",
     "text": [
      "C:\\Users\\user\\AppData\\Local\\Temp\\ipykernel_4788\\2196653612.py:3: FutureWarning: Series.dt.weekofyear and Series.dt.week have been deprecated. Please use Series.dt.isocalendar().week instead.\n",
      "  df['Week'] = df['Date'].dt.week\n"
     ]
    }
   ],
   "source": [
    "df['Month'] = df['Date'].dt.month\n",
    "df['Year'] = df['Date'].dt.year \n",
    "df['Week'] = df['Date'].dt.week "
   ]
  },
  {
   "cell_type": "code",
   "execution_count": 14,
   "metadata": {},
   "outputs": [
    {
     "data": {
      "text/plain": [
       "<AxesSubplot: xlabel='isFraud', ylabel='count'>"
      ]
     },
     "execution_count": 14,
     "metadata": {},
     "output_type": "execute_result"
    },
    {
     "data": {
      "image/png": "[encoded data removed]",
      "text/plain": [
       "<Figure size 640x480 with 1 Axes>"
      ]
     },
     "metadata": {},
     "output_type": "display_data"
    }
   ],
   "source": [
    "# Target column distribution \n",
    "sns.countplot(data=df, x='isFraud')"
   ]
  },
  {
   "cell_type": "code",
   "execution_count": null,
   "metadata": {},
   "outputs": [],
   "source": [
    "df['Exp Type']"
   ]
  },
  {
   "cell_type": "code",
   "execution_count": 21,
   "metadata": {},
   "outputs": [
    {
     "data": {
      "text/html": [
       "<div>\n",
       "<style scoped>\n",
       "    .dataframe tbody tr th:only-of-type {\n",
       "        vertical-align: middle;\n",
       "    }\n",
       "\n",
       "    .dataframe tbody tr th {\n",
       "        vertical-align: top;\n",
       "    }\n",
       "\n",
       "    .dataframe thead th {\n",
       "        text-align: right;\n",
       "    }\n",
       "</style>\n",
       "<table border=\"1\" class=\"dataframe\">\n",
       "  <thead>\n",
       "    <tr style=\"text-align: right;\">\n",
       "      <th></th>\n",
       "      <th>isFraud</th>\n",
       "      <th>0</th>\n",
       "      <th>1</th>\n",
       "    </tr>\n",
       "    <tr>\n",
       "      <th>Card Type</th>\n",
       "      <th>Exp Type</th>\n",
       "      <th></th>\n",
       "      <th></th>\n",
       "    </tr>\n",
       "  </thead>\n",
       "  <tbody>\n",
       "    <tr>\n",
       "      <th rowspan=\"2\" valign=\"top\">Classic</th>\n",
       "      <th>Home</th>\n",
       "      <td>36</td>\n",
       "      <td>4</td>\n",
       "    </tr>\n",
       "    <tr>\n",
       "      <th>Personal_Care</th>\n",
       "      <td>31</td>\n",
       "      <td>9</td>\n",
       "    </tr>\n",
       "    <tr>\n",
       "      <th rowspan=\"6\" valign=\"top\">Gold</th>\n",
       "      <th>Bills</th>\n",
       "      <td>42118</td>\n",
       "      <td>8444</td>\n",
       "    </tr>\n",
       "    <tr>\n",
       "      <th>Entertainment</th>\n",
       "      <td>38346</td>\n",
       "      <td>7583</td>\n",
       "    </tr>\n",
       "    <tr>\n",
       "      <th>Food</th>\n",
       "      <td>44280</td>\n",
       "      <td>8978</td>\n",
       "    </tr>\n",
       "    <tr>\n",
       "      <th>Fuel</th>\n",
       "      <td>44028</td>\n",
       "      <td>8965</td>\n",
       "    </tr>\n",
       "    <tr>\n",
       "      <th>Grocery</th>\n",
       "      <td>37535</td>\n",
       "      <td>7416</td>\n",
       "    </tr>\n",
       "    <tr>\n",
       "      <th>Travel</th>\n",
       "      <td>7092</td>\n",
       "      <td>1388</td>\n",
       "    </tr>\n",
       "    <tr>\n",
       "      <th rowspan=\"2\" valign=\"top\">Mass</th>\n",
       "      <th>Food</th>\n",
       "      <td>35</td>\n",
       "      <td>5</td>\n",
       "    </tr>\n",
       "    <tr>\n",
       "      <th>Health_Fitness</th>\n",
       "      <td>34</td>\n",
       "      <td>6</td>\n",
       "    </tr>\n",
       "    <tr>\n",
       "      <th rowspan=\"6\" valign=\"top\">Platinum</th>\n",
       "      <th>Bills</th>\n",
       "      <td>41142</td>\n",
       "      <td>8357</td>\n",
       "    </tr>\n",
       "    <tr>\n",
       "      <th>Entertainment</th>\n",
       "      <td>39770</td>\n",
       "      <td>7920</td>\n",
       "    </tr>\n",
       "    <tr>\n",
       "      <th>Food</th>\n",
       "      <td>46014</td>\n",
       "      <td>9189</td>\n",
       "    </tr>\n",
       "    <tr>\n",
       "      <th>Fuel</th>\n",
       "      <td>43549</td>\n",
       "      <td>8879</td>\n",
       "    </tr>\n",
       "    <tr>\n",
       "      <th>Grocery</th>\n",
       "      <td>37972</td>\n",
       "      <td>7422</td>\n",
       "    </tr>\n",
       "    <tr>\n",
       "      <th>Travel</th>\n",
       "      <td>6039</td>\n",
       "      <td>1121</td>\n",
       "    </tr>\n",
       "    <tr>\n",
       "      <th rowspan=\"6\" valign=\"top\">Signature</th>\n",
       "      <th>Bills</th>\n",
       "      <td>42170</td>\n",
       "      <td>8531</td>\n",
       "    </tr>\n",
       "    <tr>\n",
       "      <th>Entertainment</th>\n",
       "      <td>39198</td>\n",
       "      <td>7804</td>\n",
       "    </tr>\n",
       "    <tr>\n",
       "      <th>Food</th>\n",
       "      <td>44538</td>\n",
       "      <td>8961</td>\n",
       "    </tr>\n",
       "    <tr>\n",
       "      <th>Fuel</th>\n",
       "      <td>43002</td>\n",
       "      <td>8784</td>\n",
       "    </tr>\n",
       "    <tr>\n",
       "      <th>Grocery</th>\n",
       "      <td>40946</td>\n",
       "      <td>8233</td>\n",
       "    </tr>\n",
       "    <tr>\n",
       "      <th>Travel</th>\n",
       "      <td>6017</td>\n",
       "      <td>1143</td>\n",
       "    </tr>\n",
       "    <tr>\n",
       "      <th rowspan=\"6\" valign=\"top\">Silver</th>\n",
       "      <th>Bills</th>\n",
       "      <td>44614</td>\n",
       "      <td>9126</td>\n",
       "    </tr>\n",
       "    <tr>\n",
       "      <th>Entertainment</th>\n",
       "      <td>42269</td>\n",
       "      <td>8523</td>\n",
       "    </tr>\n",
       "    <tr>\n",
       "      <th>Food</th>\n",
       "      <td>48314</td>\n",
       "      <td>9801</td>\n",
       "    </tr>\n",
       "    <tr>\n",
       "      <th>Fuel</th>\n",
       "      <td>45268</td>\n",
       "      <td>9355</td>\n",
       "    </tr>\n",
       "    <tr>\n",
       "      <th>Grocery</th>\n",
       "      <td>42793</td>\n",
       "      <td>8757</td>\n",
       "    </tr>\n",
       "    <tr>\n",
       "      <th>Travel</th>\n",
       "      <td>5639</td>\n",
       "      <td>1081</td>\n",
       "    </tr>\n",
       "  </tbody>\n",
       "</table>\n",
       "</div>"
      ],
      "text/plain": [
       "isFraud                       0     1\n",
       "Card Type Exp Type                   \n",
       "Classic   Home               36     4\n",
       "          Personal_Care      31     9\n",
       "Gold      Bills           42118  8444\n",
       "          Entertainment   38346  7583\n",
       "          Food            44280  8978\n",
       "          Fuel            44028  8965\n",
       "          Grocery         37535  7416\n",
       "          Travel           7092  1388\n",
       "Mass      Food               35     5\n",
       "          Health_Fitness     34     6\n",
       "Platinum  Bills           41142  8357\n",
       "          Entertainment   39770  7920\n",
       "          Food            46014  9189\n",
       "          Fuel            43549  8879\n",
       "          Grocery         37972  7422\n",
       "          Travel           6039  1121\n",
       "Signature Bills           42170  8531\n",
       "          Entertainment   39198  7804\n",
       "          Food            44538  8961\n",
       "          Fuel            43002  8784\n",
       "          Grocery         40946  8233\n",
       "          Travel           6017  1143\n",
       "Silver    Bills           44614  9126\n",
       "          Entertainment   42269  8523\n",
       "          Food            48314  9801\n",
       "          Fuel            45268  9355\n",
       "          Grocery         42793  8757\n",
       "          Travel           5639  1081"
      ]
     },
     "execution_count": 21,
     "metadata": {},
     "output_type": "execute_result"
    }
   ],
   "source": [
    "most_fraud = df.groupby(['Card Type','Exp Type'])['isFraud'].value_counts().unstack().fillna(0)\n",
    "most_fraud"
   ]
  },
  {
   "cell_type": "code",
   "execution_count": 23,
   "metadata": {},
   "outputs": [
    {
     "data": {
      "text/html": [
       "<div>\n",
       "<style scoped>\n",
       "    .dataframe tbody tr th:only-of-type {\n",
       "        vertical-align: middle;\n",
       "    }\n",
       "\n",
       "    .dataframe tbody tr th {\n",
       "        vertical-align: top;\n",
       "    }\n",
       "\n",
       "    .dataframe thead th {\n",
       "        text-align: right;\n",
       "    }\n",
       "</style>\n",
       "<table border=\"1\" class=\"dataframe\">\n",
       "  <thead>\n",
       "    <tr style=\"text-align: right;\">\n",
       "      <th></th>\n",
       "      <th></th>\n",
       "      <th></th>\n",
       "      <th>mean</th>\n",
       "      <th>max</th>\n",
       "    </tr>\n",
       "    <tr>\n",
       "      <th>isFraud</th>\n",
       "      <th>Card Type</th>\n",
       "      <th>Exp Type</th>\n",
       "      <th></th>\n",
       "      <th></th>\n",
       "    </tr>\n",
       "  </thead>\n",
       "  <tbody>\n",
       "    <tr>\n",
       "      <th rowspan=\"28\" valign=\"top\">0</th>\n",
       "      <th rowspan=\"2\" valign=\"top\">Classic</th>\n",
       "      <th>Home</th>\n",
       "      <td>25876.370278</td>\n",
       "      <td>241270.28</td>\n",
       "    </tr>\n",
       "    <tr>\n",
       "      <th>Personal_Care</th>\n",
       "      <td>45460.550323</td>\n",
       "      <td>374530.54</td>\n",
       "    </tr>\n",
       "    <tr>\n",
       "      <th rowspan=\"6\" valign=\"top\">Gold</th>\n",
       "      <th>Bills</th>\n",
       "      <td>40623.586070</td>\n",
       "      <td>1891886.65</td>\n",
       "    </tr>\n",
       "    <tr>\n",
       "      <th>Entertainment</th>\n",
       "      <td>40925.102144</td>\n",
       "      <td>2962079.84</td>\n",
       "    </tr>\n",
       "    <tr>\n",
       "      <th>Food</th>\n",
       "      <td>40074.541750</td>\n",
       "      <td>1954092.13</td>\n",
       "    </tr>\n",
       "    <tr>\n",
       "      <th>Fuel</th>\n",
       "      <td>40343.658280</td>\n",
       "      <td>1765452.97</td>\n",
       "    </tr>\n",
       "    <tr>\n",
       "      <th>Grocery</th>\n",
       "      <td>40687.291288</td>\n",
       "      <td>2072097.35</td>\n",
       "    </tr>\n",
       "    <tr>\n",
       "      <th>Travel</th>\n",
       "      <td>42378.820527</td>\n",
       "      <td>1792330.95</td>\n",
       "    </tr>\n",
       "    <tr>\n",
       "      <th rowspan=\"2\" valign=\"top\">Mass</th>\n",
       "      <th>Food</th>\n",
       "      <td>21479.189429</td>\n",
       "      <td>309689.87</td>\n",
       "    </tr>\n",
       "    <tr>\n",
       "      <th>Health_Fitness</th>\n",
       "      <td>41787.432059</td>\n",
       "      <td>236017.51</td>\n",
       "    </tr>\n",
       "    <tr>\n",
       "      <th rowspan=\"6\" valign=\"top\">Platinum</th>\n",
       "      <th>Bills</th>\n",
       "      <td>40208.808583</td>\n",
       "      <td>2554999.36</td>\n",
       "    </tr>\n",
       "    <tr>\n",
       "      <th>Entertainment</th>\n",
       "      <td>40031.687927</td>\n",
       "      <td>1105180.01</td>\n",
       "    </tr>\n",
       "    <tr>\n",
       "      <th>Food</th>\n",
       "      <td>40078.015535</td>\n",
       "      <td>2194160.57</td>\n",
       "    </tr>\n",
       "    <tr>\n",
       "      <th>Fuel</th>\n",
       "      <td>41068.100350</td>\n",
       "      <td>1321968.30</td>\n",
       "    </tr>\n",
       "    <tr>\n",
       "      <th>Grocery</th>\n",
       "      <td>40432.733974</td>\n",
       "      <td>1632397.31</td>\n",
       "    </tr>\n",
       "    <tr>\n",
       "      <th>Travel</th>\n",
       "      <td>40340.499472</td>\n",
       "      <td>1183182.40</td>\n",
       "    </tr>\n",
       "    <tr>\n",
       "      <th rowspan=\"6\" valign=\"top\">Signature</th>\n",
       "      <th>Bills</th>\n",
       "      <td>40137.514156</td>\n",
       "      <td>2536199.21</td>\n",
       "    </tr>\n",
       "    <tr>\n",
       "      <th>Entertainment</th>\n",
       "      <td>40516.907024</td>\n",
       "      <td>2802396.20</td>\n",
       "    </tr>\n",
       "    <tr>\n",
       "      <th>Food</th>\n",
       "      <td>40759.565930</td>\n",
       "      <td>2121878.54</td>\n",
       "    </tr>\n",
       "    <tr>\n",
       "      <th>Fuel</th>\n",
       "      <td>40599.115896</td>\n",
       "      <td>2537071.55</td>\n",
       "    </tr>\n",
       "    <tr>\n",
       "      <th>Grocery</th>\n",
       "      <td>40471.720276</td>\n",
       "      <td>1871671.54</td>\n",
       "    </tr>\n",
       "    <tr>\n",
       "      <th>Travel</th>\n",
       "      <td>41650.014690</td>\n",
       "      <td>1010199.43</td>\n",
       "    </tr>\n",
       "    <tr>\n",
       "      <th rowspan=\"6\" valign=\"top\">Silver</th>\n",
       "      <th>Bills</th>\n",
       "      <td>39925.158310</td>\n",
       "      <td>2900409.16</td>\n",
       "    </tr>\n",
       "    <tr>\n",
       "      <th>Entertainment</th>\n",
       "      <td>40842.963207</td>\n",
       "      <td>1632536.69</td>\n",
       "    </tr>\n",
       "    <tr>\n",
       "      <th>Food</th>\n",
       "      <td>39898.222784</td>\n",
       "      <td>1855490.28</td>\n",
       "    </tr>\n",
       "    <tr>\n",
       "      <th>Fuel</th>\n",
       "      <td>40883.496434</td>\n",
       "      <td>2412843.02</td>\n",
       "    </tr>\n",
       "    <tr>\n",
       "      <th>Grocery</th>\n",
       "      <td>40857.779824</td>\n",
       "      <td>2000538.78</td>\n",
       "    </tr>\n",
       "    <tr>\n",
       "      <th>Travel</th>\n",
       "      <td>42136.657966</td>\n",
       "      <td>1609288.13</td>\n",
       "    </tr>\n",
       "    <tr>\n",
       "      <th rowspan=\"28\" valign=\"top\">1</th>\n",
       "      <th rowspan=\"2\" valign=\"top\">Classic</th>\n",
       "      <th>Home</th>\n",
       "      <td>10306.500000</td>\n",
       "      <td>18864.00</td>\n",
       "    </tr>\n",
       "    <tr>\n",
       "      <th>Personal_Care</th>\n",
       "      <td>11928.555556</td>\n",
       "      <td>21098.00</td>\n",
       "    </tr>\n",
       "    <tr>\n",
       "      <th rowspan=\"6\" valign=\"top\">Gold</th>\n",
       "      <th>Bills</th>\n",
       "      <td>27545.602087</td>\n",
       "      <td>10000000.00</td>\n",
       "    </tr>\n",
       "    <tr>\n",
       "      <th>Entertainment</th>\n",
       "      <td>25095.440108</td>\n",
       "      <td>10000000.00</td>\n",
       "    </tr>\n",
       "    <tr>\n",
       "      <th>Food</th>\n",
       "      <td>25621.030750</td>\n",
       "      <td>10000000.00</td>\n",
       "    </tr>\n",
       "    <tr>\n",
       "      <th>Fuel</th>\n",
       "      <td>23474.447604</td>\n",
       "      <td>10000000.00</td>\n",
       "    </tr>\n",
       "    <tr>\n",
       "      <th>Grocery</th>\n",
       "      <td>24988.543366</td>\n",
       "      <td>7108914.22</td>\n",
       "    </tr>\n",
       "    <tr>\n",
       "      <th>Travel</th>\n",
       "      <td>20783.641765</td>\n",
       "      <td>2701905.30</td>\n",
       "    </tr>\n",
       "    <tr>\n",
       "      <th rowspan=\"2\" valign=\"top\">Mass</th>\n",
       "      <th>Food</th>\n",
       "      <td>8845.800000</td>\n",
       "      <td>13526.00</td>\n",
       "    </tr>\n",
       "    <tr>\n",
       "      <th>Health_Fitness</th>\n",
       "      <td>14072.833333</td>\n",
       "      <td>22508.00</td>\n",
       "    </tr>\n",
       "    <tr>\n",
       "      <th rowspan=\"6\" valign=\"top\">Platinum</th>\n",
       "      <th>Bills</th>\n",
       "      <td>24026.532782</td>\n",
       "      <td>6188772.44</td>\n",
       "    </tr>\n",
       "    <tr>\n",
       "      <th>Entertainment</th>\n",
       "      <td>25135.292444</td>\n",
       "      <td>8924971.59</td>\n",
       "    </tr>\n",
       "    <tr>\n",
       "      <th>Food</th>\n",
       "      <td>29969.543210</td>\n",
       "      <td>10000000.00</td>\n",
       "    </tr>\n",
       "    <tr>\n",
       "      <th>Fuel</th>\n",
       "      <td>26411.610964</td>\n",
       "      <td>10000000.00</td>\n",
       "    </tr>\n",
       "    <tr>\n",
       "      <th>Grocery</th>\n",
       "      <td>25885.319807</td>\n",
       "      <td>7937954.20</td>\n",
       "    </tr>\n",
       "    <tr>\n",
       "      <th>Travel</th>\n",
       "      <td>18986.370455</td>\n",
       "      <td>460635.82</td>\n",
       "    </tr>\n",
       "    <tr>\n",
       "      <th rowspan=\"6\" valign=\"top\">Signature</th>\n",
       "      <th>Bills</th>\n",
       "      <td>24039.321534</td>\n",
       "      <td>7728992.56</td>\n",
       "    </tr>\n",
       "    <tr>\n",
       "      <th>Entertainment</th>\n",
       "      <td>25410.196161</td>\n",
       "      <td>10000000.00</td>\n",
       "    </tr>\n",
       "    <tr>\n",
       "      <th>Food</th>\n",
       "      <td>26186.236241</td>\n",
       "      <td>9039246.82</td>\n",
       "    </tr>\n",
       "    <tr>\n",
       "      <th>Fuel</th>\n",
       "      <td>24187.841996</td>\n",
       "      <td>9465988.82</td>\n",
       "    </tr>\n",
       "    <tr>\n",
       "      <th>Grocery</th>\n",
       "      <td>26121.080978</td>\n",
       "      <td>9887819.06</td>\n",
       "    </tr>\n",
       "    <tr>\n",
       "      <th>Travel</th>\n",
       "      <td>16074.130446</td>\n",
       "      <td>515818.00</td>\n",
       "    </tr>\n",
       "    <tr>\n",
       "      <th rowspan=\"6\" valign=\"top\">Silver</th>\n",
       "      <th>Bills</th>\n",
       "      <td>26102.857119</td>\n",
       "      <td>10000000.00</td>\n",
       "    </tr>\n",
       "    <tr>\n",
       "      <th>Entertainment</th>\n",
       "      <td>28394.942527</td>\n",
       "      <td>10000000.00</td>\n",
       "    </tr>\n",
       "    <tr>\n",
       "      <th>Food</th>\n",
       "      <td>24604.759667</td>\n",
       "      <td>10000000.00</td>\n",
       "    </tr>\n",
       "    <tr>\n",
       "      <th>Fuel</th>\n",
       "      <td>26646.133401</td>\n",
       "      <td>9977761.05</td>\n",
       "    </tr>\n",
       "    <tr>\n",
       "      <th>Grocery</th>\n",
       "      <td>28998.772147</td>\n",
       "      <td>9039246.82</td>\n",
       "    </tr>\n",
       "    <tr>\n",
       "      <th>Travel</th>\n",
       "      <td>20718.728575</td>\n",
       "      <td>2701905.30</td>\n",
       "    </tr>\n",
       "  </tbody>\n",
       "</table>\n",
       "</div>"
      ],
      "text/plain": [
       "                                          mean          max\n",
       "isFraud Card Type Exp Type                                 \n",
       "0       Classic   Home            25876.370278    241270.28\n",
       "                  Personal_Care   45460.550323    374530.54\n",
       "        Gold      Bills           40623.586070   1891886.65\n",
       "                  Entertainment   40925.102144   2962079.84\n",
       "                  Food            40074.541750   1954092.13\n",
       "                  Fuel            40343.658280   1765452.97\n",
       "                  Grocery         40687.291288   2072097.35\n",
       "                  Travel          42378.820527   1792330.95\n",
       "        Mass      Food            21479.189429    309689.87\n",
       "                  Health_Fitness  41787.432059    236017.51\n",
       "        Platinum  Bills           40208.808583   2554999.36\n",
       "                  Entertainment   40031.687927   1105180.01\n",
       "                  Food            40078.015535   2194160.57\n",
       "                  Fuel            41068.100350   1321968.30\n",
       "                  Grocery         40432.733974   1632397.31\n",
       "                  Travel          40340.499472   1183182.40\n",
       "        Signature Bills           40137.514156   2536199.21\n",
       "                  Entertainment   40516.907024   2802396.20\n",
       "                  Food            40759.565930   2121878.54\n",
       "                  Fuel            40599.115896   2537071.55\n",
       "                  Grocery         40471.720276   1871671.54\n",
       "                  Travel          41650.014690   1010199.43\n",
       "        Silver    Bills           39925.158310   2900409.16\n",
       "                  Entertainment   40842.963207   1632536.69\n",
       "                  Food            39898.222784   1855490.28\n",
       "                  Fuel            40883.496434   2412843.02\n",
       "                  Grocery         40857.779824   2000538.78\n",
       "                  Travel          42136.657966   1609288.13\n",
       "1       Classic   Home            10306.500000     18864.00\n",
       "                  Personal_Care   11928.555556     21098.00\n",
       "        Gold      Bills           27545.602087  10000000.00\n",
       "                  Entertainment   25095.440108  10000000.00\n",
       "                  Food            25621.030750  10000000.00\n",
       "                  Fuel            23474.447604  10000000.00\n",
       "                  Grocery         24988.543366   7108914.22\n",
       "                  Travel          20783.641765   2701905.30\n",
       "        Mass      Food             8845.800000     13526.00\n",
       "                  Health_Fitness  14072.833333     22508.00\n",
       "        Platinum  Bills           24026.532782   6188772.44\n",
       "                  Entertainment   25135.292444   8924971.59\n",
       "                  Food            29969.543210  10000000.00\n",
       "                  Fuel            26411.610964  10000000.00\n",
       "                  Grocery         25885.319807   7937954.20\n",
       "                  Travel          18986.370455    460635.82\n",
       "        Signature Bills           24039.321534   7728992.56\n",
       "                  Entertainment   25410.196161  10000000.00\n",
       "                  Food            26186.236241   9039246.82\n",
       "                  Fuel            24187.841996   9465988.82\n",
       "                  Grocery         26121.080978   9887819.06\n",
       "                  Travel          16074.130446    515818.00\n",
       "        Silver    Bills           26102.857119  10000000.00\n",
       "                  Entertainment   28394.942527  10000000.00\n",
       "                  Food            24604.759667  10000000.00\n",
       "                  Fuel            26646.133401   9977761.05\n",
       "                  Grocery         28998.772147   9039246.82\n",
       "                  Travel          20718.728575   2701905.30"
      ]
     },
     "execution_count": 23,
     "metadata": {},
     "output_type": "execute_result"
    }
   ],
   "source": [
    "most_amount = df.groupby(['isFraud','Card Type','Exp Type'])['amount'].agg(['mean','max'])\n",
    "most_amount"
   ]
  },
  {
   "cell_type": "code",
   "execution_count": 26,
   "metadata": {},
   "outputs": [
    {
     "data": {
      "image/png": "[encoded data removed]",
      "text/plain": [
       "<Figure size 1200x700 with 1 Axes>"
      ]
     },
     "metadata": {},
     "output_type": "display_data"
    }
   ],
   "source": [
    "plt.figure(figsize=(12,7))\n",
    "sns.barplot(data=most_amount.reset_index(), y='mean', x='isFraud', hue='Card Type')\n",
    "plt.show()"
   ]
  },
  {
   "cell_type": "code",
   "execution_count": 39,
   "metadata": {},
   "outputs": [
    {
     "data": {
      "image/png": "[encoded data removed]",
      "text/plain": [
       "<Figure size 800x500 with 1 Axes>"
      ]
     },
     "metadata": {},
     "output_type": "display_data"
    }
   ],
   "source": [
    "plt.figure(figsize=(8,5))\n",
    "fraud_amounts = most_amount.loc[1]\n",
    "sns.barplot(data=fraud_amounts.reset_index(), y='mean', x='Card Type', hue='Exp Type')  \n",
    "plt.show()"
   ]
  },
  {
   "cell_type": "code",
   "execution_count": 41,
   "metadata": {},
   "outputs": [
    {
     "data": {
      "text/plain": [
       "<AxesSubplot: xlabel='Year', ylabel='count'>"
      ]
     },
     "execution_count": 41,
     "metadata": {},
     "output_type": "execute_result"
    },
    {
     "data": {
      "image/png": "[encoded data removed]",
      "text/plain": [
       "<Figure size 640x480 with 1 Axes>"
      ]
     },
     "metadata": {},
     "output_type": "display_data"
    }
   ],
   "source": [
    "sns.countplot(data=df, x='Year', hue='isFraud')"
   ]
  },
  {
   "cell_type": "code",
   "execution_count": 48,
   "metadata": {},
   "outputs": [
    {
     "data": {
      "text/plain": [
       "<AxesSubplot: xlabel='Year'>"
      ]
     },
     "execution_count": 48,
     "metadata": {},
     "output_type": "execute_result"
    },
    {
     "data": {
      "image/png": "[encoded data removed]",
      "text/plain": [
       "<Figure size 640x480 with 1 Axes>"
      ]
     },
     "metadata": {},
     "output_type": "display_data"
    }
   ],
   "source": [
    "# Average amount per year flagged as fraudalent transactions \n",
    "year_group = df.groupby(['isFraud','Year'])['amount'].agg('mean')\n",
    "year_groups = year_group.loc[1]\n",
    "sns.barplot(x=year_groups.index, y=year_groups.values)\n"
   ]
  },
  {
   "cell_type": "code",
   "execution_count": 42,
   "metadata": {},
   "outputs": [
    {
     "data": {
      "text/plain": [
       "<AxesSubplot: xlabel='Month', ylabel='count'>"
      ]
     },
     "execution_count": 42,
     "metadata": {},
     "output_type": "execute_result"
    },
    {
     "data": {
      "image/png": "[encoded data removed]",
      "text/plain": [
       "<Figure size 640x480 with 1 Axes>"
      ]
     },
     "metadata": {},
     "output_type": "display_data"
    }
   ],
   "source": [
    "sns.countplot(data=df, x='Month', hue='isFraud')"
   ]
  },
  {
   "cell_type": "code",
   "execution_count": 44,
   "metadata": {},
   "outputs": [
    {
     "data": {
      "text/plain": [
       "<AxesSubplot: xlabel='type', ylabel='count'>"
      ]
     },
     "execution_count": 44,
     "metadata": {},
     "output_type": "execute_result"
    },
    {
     "data": {
      "image/png": "[encoded data removed]",
      "text/plain": [
       "<Figure size 640x480 with 1 Axes>"
      ]
     },
     "metadata": {},
     "output_type": "display_data"
    }
   ],
   "source": [
    "sns.countplot(data=df, x='type', hue='isFraud')"
   ]
  },
  {
   "cell_type": "code",
   "execution_count": 51,
   "metadata": {},
   "outputs": [
    {
     "data": {
      "image/png": "[encoded data removed]",
      "text/plain": [
       "<Figure size 640x480 with 1 Axes>"
      ]
     },
     "metadata": {},
     "output_type": "display_data"
    }
   ],
   "source": [
    "# Top twenty most fraudalent cities \n",
    "top_cities_fraud = df[df['isFraud'] == 1]['City'].value_counts().head(12)\n",
    "sns.barplot(x=top_cities_fraud.values, y=top_cities_fraud.index)\n",
    "plt.xlabel('Frequency of Fraud')\n",
    "plt.ylabel('City')\n",
    "plt.title('Top Twenty Cities with the Highest Frequency of Fraud')\n",
    "plt.show()"
   ]
  },
  {
   "cell_type": "markdown",
   "metadata": {},
   "source": [
    "### Modelling"
   ]
  },
  {
   "cell_type": "code",
   "execution_count": null,
   "metadata": {},
   "outputs": [],
   "source": []
  }
 ],
 "metadata": {
  "kernelspec": {
   "display_name": "Python 3",
   "language": "python",
   "name": "python3"
  },
  "language_info": {
   "codemirror_mode": {
    "name": "ipython",
    "version": 3
   },
   "file_extension": ".py",
   "mimetype": "text/x-python",
   "name": "python",
   "nbconvert_exporter": "python",
   "pygments_lexer": "ipython3",
   "version": "3.10.11"
  }
 },
 "nbformat": 4,
 "nbformat_minor": 2
}
